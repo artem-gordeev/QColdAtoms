{
 "cells": [
  {
   "cell_type": "code",
   "execution_count": 2,
   "metadata": {},
   "outputs": [],
   "source": [
    "using ColdAtoms"
   ]
  },
  {
   "cell_type": "code",
   "execution_count": 3,
   "metadata": {},
   "outputs": [
    {
     "name": "stderr",
     "output_type": "stream",
     "text": [
      "┌ Warning: Kaleido startup failed with code 1.\n",
      "└ @ PlotlyKaleido C:\\Users\\А\\.julia\\packages\\PlotlyKaleido\\jXjt6\\src\\PlotlyKaleido.jl:38\n"
     ]
    }
   ],
   "source": [
    "using PlotlyJS"
   ]
  },
  {
   "cell_type": "code",
   "execution_count": 4,
   "metadata": {},
   "outputs": [],
   "source": [
    "using QuantumOptics\n",
    "include(\"../params/default.jl\")\n",
    "N = 1;\n",
    "T = 1\n",
    "atom_params = [m, T]\n",
    "samples1, acc_rate1 = samples_generate(trap_params, atom_params, N; skip=5000, freq=1000);\n",
    "samples2, acc_rate2 = samples_generate(trap_params, atom_params, N; skip=5000, freq=1000);\n",
    "w_1 = 6.28\n",
    "detuning_params = [0.377 * w_1, 0] #[Δ0, δ_twophoton(Ωr, Ωb, Δ0) + α*Ω_twophoton(Ωr, Ωb, Δ0)];\n",
    "tspan1 = [0.0:0.02:0.68;];\n",
    "tspan2 = [0.68:0.02:5.7;]\n",
    "plus = (zero1 + g1) / sqrt(2.0)\n",
    "minus = (zero1 - g1) / sqrt(2.0) \n",
    "ψ0 = zero1 ⊗ g1 #plus ⊗ g1;\n",
    "blue_laser_params = [w_1, wb, zb];\n",
    "ρ0 = ψ0 ⊗ dagger(ψ0); #ψ0\n",
    "tspan = cat(tspan1,tspan2; dims=(1,1));\n"
   ]
  },
  {
   "cell_type": "code",
   "execution_count": null,
   "metadata": {},
   "outputs": [
    {
     "ename": "UndefVarError",
     "evalue": "UndefVarError: `direct_CZ_simulation1` not defined in `Main`\nSuggestion: check for spelling errors or missing imports.",
     "output_type": "error",
     "traceback": [
      "UndefVarError: `direct_CZ_simulation1` not defined in `Main`\n",
      "Suggestion: check for spelling errors or missing imports.\n",
      "\n",
      "Stacktrace:\n",
      " [1] top-level scope\n",
      "   @ c:\\Users\\А\\Documents\\GitHub\\QColdAtoms\\notebooks\\two_atom_modeling.ipynb:1"
     ]
    }
   ],
   "source": [
    "phase = -3.9 #2.3 #3.902/2\n",
    "ρ_mean, ρ2_mean = direct_CZ_simulation(tspan1,tspan2, ρ0, \n",
    "    atom_params,    trap_params,     \n",
    "    samples1, samples2, \n",
    "    red_laser_params,    blue_laser_params,\n",
    "    red_laser_params,    blue_laser_params,\n",
    "    detuning_params,     detuning_params,   V_rr, phase; \n",
    "    atom_motion=true,     free_motion=true,   parallel=false\n",
    "    );\n",
    "\n",
    "Pr_2_g = real(expect(Id ⊗ g1 ⊗ dagger(g1), ρ_mean));  \n",
    "Pr_2_r = real(expect(Id ⊗ r1 ⊗ dagger(r1), ρ_mean)); \n"
   ]
  },
  {
   "cell_type": "code",
   "execution_count": 6,
   "metadata": {},
   "outputs": [
    {
     "ename": "UndefVarError",
     "evalue": "UndefVarError: `Pr_2_g` not defined in `Main`\nSuggestion: check for spelling errors or missing imports.",
     "output_type": "error",
     "traceback": [
      "UndefVarError: `Pr_2_g` not defined in `Main`\n",
      "Suggestion: check for spelling errors or missing imports.\n",
      "\n",
      "Stacktrace:\n",
      " [1] top-level scope\n",
      "   @ c:\\Users\\А\\Documents\\GitHub\\QColdAtoms\\notebooks\\two_atom_modeling.ipynb:1"
     ]
    }
   ],
   "source": [
    "trace1 = scatter(x=tspan, y=Pr_2_g,mode=\"lines+markers\", name=\"P2_g\");\n",
    "trace2 = scatter(x=tspan, y=Pr_2_r,\n",
    "mode=\"lines+markers\",\n",
    "name=\"P2_r\");\n",
    "layout = Layout(xaxis_title=\"t\",   yaxis_title=\"P\")\n",
    "plot([trace1,trace2], layout)  "
   ]
  },
  {
   "cell_type": "markdown",
   "metadata": {},
   "source": [
    "1r+r1"
   ]
  },
  {
   "cell_type": "code",
   "execution_count": 6,
   "metadata": {},
   "outputs": [],
   "source": [
    "using QuantumOptics\n",
    "include(\"../params/default.jl\")\n",
    "\n",
    "N = 10#20;\n",
    "samples1, acc_rate1 = samples_generate(trap_params, atom_params, N; skip=5000, freq=1000);\n",
    "samples2, acc_rate2 = samples_generate(trap_params, atom_params, N; skip=5000, freq=1000);\n",
    "\n",
    "detuning_params = [Δ0, δ_twophoton(Ωr, Ωb, Δ0) ];#+ α*Ω_twophoton(Ωr, Ωb, Δ0)]; #α = 0.377 \n",
    " \n",
    "tspan = [0.0:0.02:0.7;];  #1.2*T0;]; #T0 = T_twophoton(Ωr, Ωb, Δ0);\n",
    "plus = (zero1 + g1) / sqrt(2.0)\n",
    "minus = (zero1 - g1) / sqrt(2.0) \n",
    "ψ0 = g1 ⊗ g1 #plus ⊗ g1;\n",
    "#n = 2;\n",
    "#blue_laser_params = [Ωb, wb, zb, \"simp_flattop_HG\", n, n];\n",
    "#blue_laser_params = [Ωb, wb, zb];\n",
    "beam_param = [1.7, 0.0];"
   ]
  },
  {
   "cell_type": "code",
   "execution_count": null,
   "metadata": {},
   "outputs": [],
   "source": [
    "n = 0;\n",
    "blue_laser_params = [Ωb, wb, zb, \"simp_flattop_HG\", n, n];\n",
    "ρ_mean, ρ2_mean = two_atom_simulation(tspan, ψ0, \n",
    "    atom_params,    trap_params,     \n",
    "    samples1, samples2, \n",
    "    red_laser_params,    blue_laser_params,\n",
    "    red_laser_params,    blue_laser_params,\n",
    "    detuning_params,     detuning_params,   \n",
    "    decay_params, V_rr, beam_param; \n",
    "    atom_motion=true,     free_motion=true,\n",
    "    spontaneous_decay=true,     parallel=false\n",
    "    ); \n",
    "G_Pr_1 = real(expect(r1 ⊗ dagger(r1) ⊗ Id, ρ_mean));  \n",
    "G_Pr_2 = real(expect(Id ⊗ r1 ⊗ dagger(r1), ρ_mean)); "
   ]
  },
  {
   "cell_type": "code",
   "execution_count": null,
   "metadata": {},
   "outputs": [],
   "source": [
    "n = 2;\n",
    "blue_laser_params = [Ωb, wb, zb, \"simp_flattop_HG\", n, n];\n",
    "ρ_mean, ρ2_mean = two_atom_simulation(tspan, ψ0, \n",
    "    atom_params,    trap_params,     \n",
    "    samples1, samples2, \n",
    "    red_laser_params,    blue_laser_params,\n",
    "    red_laser_params,    blue_laser_params,\n",
    "    detuning_params,     detuning_params,   \n",
    "    decay_params, V_rr, beam_param; \n",
    "    atom_motion=true,     free_motion=true,\n",
    "    spontaneous_decay=true,     parallel=false\n",
    "    ); \n",
    "HG2_Pr_1 = real(expect(r1 ⊗ dagger(r1) ⊗ Id, ρ_mean));  \n",
    "HG2_Pr_2 = real(expect(Id ⊗ r1 ⊗ dagger(r1), ρ_mean)); "
   ]
  },
  {
   "cell_type": "code",
   "execution_count": null,
   "metadata": {},
   "outputs": [],
   "source": [
    "n = 4;\n",
    "blue_laser_params = [Ωb, wb, zb, \"simp_flattop_HG\", n, n];\n",
    "ρ_mean, ρ2_mean = two_atom_simulation(tspan, ψ0, \n",
    "    atom_params,    trap_params,     \n",
    "    samples1, samples2, \n",
    "    red_laser_params,    blue_laser_params,\n",
    "    red_laser_params,    blue_laser_params,\n",
    "    detuning_params,     detuning_params,   \n",
    "    decay_params, V_rr, beam_param; \n",
    "    atom_motion=true,     free_motion=true,\n",
    "    spontaneous_decay=true,     parallel=false\n",
    "    ); \n",
    "    \n",
    "HG4_Pr_1 = real(expect(r1 ⊗ dagger(r1) ⊗ Id, ρ_mean));  \n",
    "HG4_Pr_2 = real(expect(Id ⊗ r1 ⊗ dagger(r1), ρ_mean)); "
   ]
  },
  {
   "cell_type": "code",
   "execution_count": null,
   "metadata": {},
   "outputs": [],
   "source": [
    "using PlotlyJS\n",
    "trace1 = scatter(x=tspan, y=G_Pr_1,\n",
    "mode=\"lines+markers\",\n",
    "name=\"Gauss P_r1\");\n",
    "trace2 = scatter(x=tspan, y=G_Pr_2,\n",
    "mode=\"lines+markers\",\n",
    "name=\"Gauss P_1r\");\n",
    "trace3 = scatter(x=tspan, y=HG2_Pr_1,\n",
    "mode=\"lines+markers\",\n",
    "name=\"HG2 P_r1\");\n",
    "trace4 = scatter(x=tspan, y=HG2_Pr_2,\n",
    "mode=\"lines+markers\",\n",
    "name=\"HG2 P_1r\");\n",
    "trace5 = scatter(x=tspan, y=HG4_Pr_2,\n",
    "mode=\"lines+markers\",\n",
    "name=\"HG4 P_1r\");\n",
    "trace6 = scatter(x=tspan, y=HG4_Pr_2.+0.005,\n",
    "mode=\"lines+markers\",\n",
    "name=\"HG4 P_1r\");\n",
    "\n",
    "plt_layout = PlotlyJS.Layout(; template = PlotlyJS.templates.plotly_white,xaxis_title=\"Время, мс\",\n",
    "yaxis_title=\"Вероятность состояния\")\n",
    "plot([trace1,trace2,trace3,trace4,trace5,trace6], plt_layout)"
   ]
  },
  {
   "cell_type": "code",
   "execution_count": null,
   "metadata": {},
   "outputs": [],
   "source": [
    "\n",
    "\"\"\"trace5 = scatter(x=tspan, y=HG6_Pr_2,#,trace7,trace8,trace9,trace10], layout) \n",
    "mode=\"lines+markers\",\n",
    "name=\"HG6 P_1r\");\n",
    "trace6 = scatter(x=tspan, y=HG6_Pr_2,\n",
    "mode=\"lines+markers\",\n",
    "name=\"HG6 P_1r\");\n",
    "trace7 = scatter(x=tspan, y=HG8_Pr_2,\n",
    "mode=\"lines+markers\",\n",
    "name=\"HG8 P_1r\");\n",
    "trace8 = scatter(x=tspan, y=HG8_Pr_2,\n",
    "mode=\"lines+markers\",\n",
    "name=\"HG8 P_1r\");\"\"\""
   ]
  },
  {
   "cell_type": "code",
   "execution_count": null,
   "metadata": {},
   "outputs": [],
   "source": [
    "\n",
    "P1_1 = real(expect(g1 ⊗ dagger(g1) ⊗ Id, ρ_mean)); \n",
    "P1_2 = real(expect(Id ⊗ g1 ⊗ dagger(g1), ρ_mean));  \n",
    "P0_2 = real(expect(Id ⊗ zero1 ⊗ dagger(zero1), ρ_mean)); \n",
    "P0_1 = real(expect(zero1 ⊗ dagger(zero1) ⊗ Id, ρ_mean));  \n",
    "Pm_1 = real(expect(minus ⊗ dagger(minus) ⊗ Id, ρ_mean)); \n",
    "Pm_2 = real(expect(Id ⊗ minus ⊗ dagger(minus), ρ_mean));  \n",
    "Pp_2 = real(expect(Id ⊗ plus ⊗ dagger(plus), ρ_mean)); \n",
    "Pp_1 = real(expect(plus ⊗ dagger(plus) ⊗ Id, ρ_mean));  \n",
    "Pr_1 = real(expect(r1 ⊗ dagger(r1) ⊗ Id, ρ_mean));  \n",
    "Pr_2 = real(expect(Id ⊗ r1 ⊗ dagger(r1), ρ_mean)); "
   ]
  },
  {
   "cell_type": "code",
   "execution_count": null,
   "metadata": {},
   "outputs": [],
   "source": [
    "using PlotlyJS\n",
    "trace1 = scatter(x=tspan, y=P1_1,\n",
    "mode=\"lines+markers\",\n",
    "name=\"P1_1\");\n",
    "trace3 = scatter(x=tspan, y=Pr_1,\n",
    "mode=\"lines+markers\",\n",
    "name=\"P_r1\");\n",
    "trace2 = scatter(x=tspan, y=P1_2,\n",
    "mode=\"lines+markers\",\n",
    "name=\"P1_2\");\n",
    "trace4 = scatter(x=tspan, y=Pr_2,\n",
    "mode=\"lines+markers\",\n",
    "name=\"P_1r\");\n",
    "layout = Layout(xaxis_title=\"t\",\n",
    "    yaxis_title=\"P\")\n",
    "plot([trace3], layout)  "
   ]
  },
  {
   "cell_type": "code",
   "execution_count": null,
   "metadata": {},
   "outputs": [],
   "source": [
    "if false\n",
    "ρ_mean, ρ2_mean = simulation_blue_intens(\n",
    "        tspan, ψ0,  \n",
    "        atom_params,    trap_params,     samples,\n",
    "        red_laser_params,    blue_laser_params,\n",
    "        detuning_params,    decay_params;\n",
    "        atom_motion = true,    free_motion = true,   \n",
    "        spontaneous_decay = true, parallel = false\n",
    "        );\n",
    "        \n",
    "    Pg_HG = real(expect(g ⊗ dagger(g), ρ_mean)); \n",
    "    Pr_HG = real(expect(r ⊗ dagger(r), ρ_mean));  \n",
    "end;"
   ]
  },
  {
   "cell_type": "code",
   "execution_count": null,
   "metadata": {},
   "outputs": [],
   "source": [
    "operators = []\n",
    "A = Array{Float64}(undef, 3) \n",
    "for i in 1:3\n",
    "    const A[i] = 0\n",
    "    push!(operators, A[i])\n",
    "end\n",
    "typeof(A)"
   ]
  }
 ],
 "metadata": {
  "kernelspec": {
   "display_name": "Julia 1.11.5",
   "language": "julia",
   "name": "julia-1.11"
  },
  "language_info": {
   "file_extension": ".jl",
   "mimetype": "application/julia",
   "name": "julia",
   "version": "1.11.5"
  }
 },
 "nbformat": 4,
 "nbformat_minor": 2
}
